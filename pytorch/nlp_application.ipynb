{
 "cells": [
  {
   "cell_type": "markdown",
   "source": [
    "# Intro to Natural Language Processing\n",
    "Welcome to NLP. NLP aims to enable computers to understand, interpret, and generate human language in a way that is both meaningful and useful.\n",
    "Applications of NLP range from sentiment analysis, machine translation, chatbots, speech recognition, text summarization, and information retrieval.\n",
    "In this notebook, we'll dive into the world of text analysis.\n",
    "We will explore ways to extract meaning from text, and build a model that can classify newsgroups post into their respective topics.\n",
    "We'll be using a simplistic technique called Bag of Words,\n",
    "which involves representing text as numerical vectors of words represented their frequency and index."
   ],
   "metadata": {
    "collapsed": false
   }
  },
  {
   "cell_type": "markdown",
   "source": [
    "# Data\n",
    "To start off let's get some data. The dataset we are going to use is the 20 newsgroups dataset from `scikit-learn`.\n",
    "The dataset comprises around 18000 newsgroups posts on 20 topics."
   ],
   "metadata": {
    "collapsed": false
   }
  },
  {
   "cell_type": "code",
   "execution_count": 45,
   "outputs": [],
   "source": [
    "from sklearn.datasets import fetch_20newsgroups\n",
    "\n",
    "news_dataset = fetch_20newsgroups(data_home='./')"
   ],
   "metadata": {
    "collapsed": false
   }
  },
  {
   "cell_type": "code",
   "execution_count": 46,
   "outputs": [
    {
     "data": {
      "text/plain": "                                                text  label_number  \\\n0  From: lerxst@wam.umd.edu (where's my thing)\\nS...             7   \n1  From: guykuo@carson.u.washington.edu (Guy Kuo)...             4   \n2  From: twillis@ec.ecn.purdue.edu (Thomas E Will...             4   \n3  From: jgreen@amber (Joe Green)\\nSubject: Re: W...             1   \n4  From: jcm@head-cfa.harvard.edu (Jonathan McDow...            14   \n\n                                          label_name  \n0  ./20news_home\\20news-bydate-train\\rec.autos\\10...  \n1  ./20news_home\\20news-bydate-train\\comp.sys.mac...  \n2  ./20news_home\\20news-bydate-train\\comp.sys.mac...  \n3  ./20news_home\\20news-bydate-train\\comp.graphic...  \n4  ./20news_home\\20news-bydate-train\\sci.space\\60880  ",
      "text/html": "<div>\n<style scoped>\n    .dataframe tbody tr th:only-of-type {\n        vertical-align: middle;\n    }\n\n    .dataframe tbody tr th {\n        vertical-align: top;\n    }\n\n    .dataframe thead th {\n        text-align: right;\n    }\n</style>\n<table border=\"1\" class=\"dataframe\">\n  <thead>\n    <tr style=\"text-align: right;\">\n      <th></th>\n      <th>text</th>\n      <th>label_number</th>\n      <th>label_name</th>\n    </tr>\n  </thead>\n  <tbody>\n    <tr>\n      <th>0</th>\n      <td>From: lerxst@wam.umd.edu (where's my thing)\\nS...</td>\n      <td>7</td>\n      <td>./20news_home\\20news-bydate-train\\rec.autos\\10...</td>\n    </tr>\n    <tr>\n      <th>1</th>\n      <td>From: guykuo@carson.u.washington.edu (Guy Kuo)...</td>\n      <td>4</td>\n      <td>./20news_home\\20news-bydate-train\\comp.sys.mac...</td>\n    </tr>\n    <tr>\n      <th>2</th>\n      <td>From: twillis@ec.ecn.purdue.edu (Thomas E Will...</td>\n      <td>4</td>\n      <td>./20news_home\\20news-bydate-train\\comp.sys.mac...</td>\n    </tr>\n    <tr>\n      <th>3</th>\n      <td>From: jgreen@amber (Joe Green)\\nSubject: Re: W...</td>\n      <td>1</td>\n      <td>./20news_home\\20news-bydate-train\\comp.graphic...</td>\n    </tr>\n    <tr>\n      <th>4</th>\n      <td>From: jcm@head-cfa.harvard.edu (Jonathan McDow...</td>\n      <td>14</td>\n      <td>./20news_home\\20news-bydate-train\\sci.space\\60880</td>\n    </tr>\n  </tbody>\n</table>\n</div>"
     },
     "execution_count": 46,
     "metadata": {},
     "output_type": "execute_result"
    }
   ],
   "source": [
    "import pandas as pd\n",
    "\n",
    "# make a pandas dataframe out of the dataset\n",
    "df = pd.DataFrame({\n",
    "    'text': news_dataset.data,\n",
    "    'label_number': news_dataset.target,\n",
    "    'label_name': news_dataset.filenames\n",
    "})\n",
    "\n",
    "df = df[:1000]\n",
    "\n",
    "#  Let's see what's in it\n",
    "df.head(5)"
   ],
   "metadata": {
    "collapsed": false
   }
  },
  {
   "cell_type": "markdown",
   "source": [
    "# Preprocessing Data\n",
    "In order to get usable data, we must transform the data to be suitable for analysis.\n",
    "We'll be using some regular expression to clean out unwanted strings and\n",
    "the `CountVectorizer` from scikit-learn to transform the collection of text\n",
    " into a matrix of token counts where each row represents a document and\n",
    "  each column represents a unique word in the document collection.\n",
    "  Let's see it in action."
   ],
   "metadata": {
    "collapsed": false
   }
  },
  {
   "cell_type": "code",
   "execution_count": 47,
   "outputs": [
    {
     "name": "stdout",
     "output_type": "stream",
     "text": [
      "(\"From: lerxst@wam.umd.edu (where's my thing)\\n\"\n",
      " 'Subject: WHAT car is this!?\\n'\n",
      " 'Nntp-Posting-Host: rac3.wam.umd.edu\\n'\n",
      " 'Organization: University of Maryland, College Park\\n'\n",
      " 'Lines: 15\\n'\n",
      " '\\n'\n",
      " ' I was wondering if anyone out there could enlighten me on this car I saw\\n'\n",
      " 'the other day. It was a 2-door sports car, looked to be from the late 60s/\\n'\n",
      " 'early 70s. It was called a Bricklin. The doors were really small. In '\n",
      " 'addition,\\n'\n",
      " 'the front bumper was separate from the rest of the body. This is \\n'\n",
      " 'all I know. If anyone can tellme a model name, engine specs, years\\n'\n",
      " 'of production, where this car is made, history, or whatever info you\\n'\n",
      " 'have on this funky looking car, please e-mail.\\n'\n",
      " '\\n'\n",
      " 'Thanks,\\n'\n",
      " '- IL\\n'\n",
      " '   ---- brought to you by your neighborhood Lerxst ----\\n'\n",
      " '\\n'\n",
      " '\\n'\n",
      " '\\n'\n",
      " '\\n')\n",
      "(\"From  lerxst wam umd edu  where's my thing  Subject  WHAT car is this   Nntp \"\n",
      " 'Posting Host  rac  wam umd edu Organization  University of Maryland  College '\n",
      " 'Park Lines       I was wondering if anyone out there could enlighten me on '\n",
      " 'this car I saw the other day  It was a   door sports car  looked to be from '\n",
      " 'the late   s  early   s  It was called a Bricklin  The doors were really '\n",
      " 'small  In addition  the front bumper was separate from the rest of the body  '\n",
      " 'This is  all I know  If anyone can tellme a model name  engine specs  years '\n",
      " 'of production  where this car is made  history  or whatever info you have on '\n",
      " 'this funky looking car  please e mail   Thanks    IL         brought to you '\n",
      " 'by your neighborhood Lerxst          ')\n"
     ]
    }
   ],
   "source": [
    "import re\n",
    "from pprint import pprint\n",
    "\n",
    "def clean_df(df: pd.DataFrame):\n",
    "    # remove non characters from review\n",
    "    regex = re.compile('<\\\\w+ /?>|[^\\\\w \\']|\\\\d|_')\n",
    "    df['text'].replace(regex, ' ', regex=True, inplace=True)\n",
    "\n",
    "    def extract_label_name(text: str):\n",
    "        match = re.match(r'\\./(.+)\\\\(.+)\\\\(.+)\\\\(.+)', text)\n",
    "        return match.group(3) if match else text\n",
    "\n",
    "    # extract label_name\n",
    "    df['label_name'] = df.label_name.apply(\n",
    "       extract_label_name\n",
    "    )\n",
    "\n",
    "    return df\n",
    "\n",
    "# before\n",
    "pprint(df.iloc[0]['text'])\n",
    "\n",
    "clean_df(df)\n",
    "\n",
    "# after\n",
    "pprint(df.iloc[0]['text'])"
   ],
   "metadata": {
    "collapsed": false
   }
  },
  {
   "cell_type": "code",
   "execution_count": 48,
   "outputs": [
    {
     "data": {
      "text/plain": "                                                text  label_number  \\\n0  From  lerxst wam umd edu  where's my thing  Su...             7   \n1  From  guykuo carson u washington edu  Guy Kuo ...             4   \n2  From  twillis ec ecn purdue edu  Thomas E Will...             4   \n3  From  jgreen amber  Joe Green  Subject  Re  We...             1   \n4  From  jcm head cfa harvard edu  Jonathan McDow...            14   \n\n              label_name  \n0              rec.autos  \n1  comp.sys.mac.hardware  \n2  comp.sys.mac.hardware  \n3          comp.graphics  \n4              sci.space  ",
      "text/html": "<div>\n<style scoped>\n    .dataframe tbody tr th:only-of-type {\n        vertical-align: middle;\n    }\n\n    .dataframe tbody tr th {\n        vertical-align: top;\n    }\n\n    .dataframe thead th {\n        text-align: right;\n    }\n</style>\n<table border=\"1\" class=\"dataframe\">\n  <thead>\n    <tr style=\"text-align: right;\">\n      <th></th>\n      <th>text</th>\n      <th>label_number</th>\n      <th>label_name</th>\n    </tr>\n  </thead>\n  <tbody>\n    <tr>\n      <th>0</th>\n      <td>From  lerxst wam umd edu  where's my thing  Su...</td>\n      <td>7</td>\n      <td>rec.autos</td>\n    </tr>\n    <tr>\n      <th>1</th>\n      <td>From  guykuo carson u washington edu  Guy Kuo ...</td>\n      <td>4</td>\n      <td>comp.sys.mac.hardware</td>\n    </tr>\n    <tr>\n      <th>2</th>\n      <td>From  twillis ec ecn purdue edu  Thomas E Will...</td>\n      <td>4</td>\n      <td>comp.sys.mac.hardware</td>\n    </tr>\n    <tr>\n      <th>3</th>\n      <td>From  jgreen amber  Joe Green  Subject  Re  We...</td>\n      <td>1</td>\n      <td>comp.graphics</td>\n    </tr>\n    <tr>\n      <th>4</th>\n      <td>From  jcm head cfa harvard edu  Jonathan McDow...</td>\n      <td>14</td>\n      <td>sci.space</td>\n    </tr>\n  </tbody>\n</table>\n</div>"
     },
     "execution_count": 48,
     "metadata": {},
     "output_type": "execute_result"
    }
   ],
   "source": [
    "df.head()"
   ],
   "metadata": {
    "collapsed": false
   }
  },
  {
   "cell_type": "code",
   "execution_count": 49,
   "outputs": [],
   "source": [
    "from sklearn.feature_extraction.text import CountVectorizer\n",
    "\n",
    "# stop_words='english' removes common English words like \"a\" or \"the' from the text\n",
    "vectorizer = CountVectorizer(stop_words='english', lowercase=True, max_df=.5, min_df=10)\n",
    "bag_of_words = vectorizer.fit_transform(df['text'])"
   ],
   "metadata": {
    "collapsed": false
   }
  },
  {
   "cell_type": "code",
   "execution_count": 50,
   "outputs": [
    {
     "data": {
      "text/plain": "<1000x1961 sparse matrix of type '<class 'numpy.int64'>'\n\twith 55002 stored elements in Compressed Sparse Row format>"
     },
     "execution_count": 50,
     "metadata": {},
     "output_type": "execute_result"
    }
   ],
   "source": [
    "bag_of_words"
   ],
   "metadata": {
    "collapsed": false
   }
  },
  {
   "cell_type": "code",
   "execution_count": 51,
   "outputs": [
    {
     "data": {
      "text/plain": "array(['aa', 'ab', 'ability', ..., 'zero', 'zoo', 'zuma'], dtype=object)"
     },
     "execution_count": 51,
     "metadata": {},
     "output_type": "execute_result"
    }
   ],
   "source": [
    "# see some of the tokens it collected\n",
    "vectorizer.get_feature_names_out()"
   ],
   "metadata": {
    "collapsed": false
   }
  },
  {
   "cell_type": "markdown",
   "source": [
    "# Dataset\n",
    "\n",
    "Now let's use the cleaned `Dataframe` to make a pytorch `Dataset` so that we can manage and load data into our model later.\n"
   ],
   "metadata": {
    "collapsed": false
   }
  },
  {
   "cell_type": "code",
   "execution_count": 52,
   "outputs": [],
   "source": [
    "import torch\n",
    "import numpy as np\n",
    "from torch.utils.data import Dataset\n",
    "\n",
    "class NewsGroupsDataset(Dataset):\n",
    "\n",
    "    def __init__(self, df: pd.DataFrame):\n",
    "        self.df = df\n",
    "        self.vectorizer = CountVectorizer(stop_words='english', lowercase=True, max_df=.5, min_df=10)\n",
    "\n",
    "        # fit vectorizer\n",
    "        self.bag_of_words = self.vectorizer.fit_transform(self.df['text'])\n",
    "\n",
    "    def __getitem__(self, index: int):\n",
    "        # note: CrossEntropyLoss requires the datatype to be floats\n",
    "\n",
    "        # converting bag-of-words representation into numpy array\n",
    "        X = self.bag_of_words[index].toarray().squeeze().astype(np.float32)\n",
    "\n",
    "        # one-hot encoded vector representing the target data\n",
    "        Y = [0.0] * len(self.classes)\n",
    "        Y[self.df.iloc[index]['label_number']] = 1.0\n",
    "        Y = torch.tensor(Y)\n",
    "\n",
    "        return X, Y\n",
    "\n",
    "    def __len__(self):\n",
    "        return len(self.df)\n",
    "\n",
    "    @property\n",
    "    def classes(self):\n",
    "        return fetch_20newsgroups(data_home='./').target_names\n",
    "\n",
    "    @property\n",
    "    def vocab_size(self):\n",
    "        return len(self.vectorizer.get_feature_names_out())"
   ],
   "metadata": {
    "collapsed": false
   }
  },
  {
   "cell_type": "code",
   "execution_count": 53,
   "outputs": [
    {
     "data": {
      "text/plain": "(array([0., 0., 0., ..., 0., 0., 0.], dtype=float32),\n tensor([0., 0., 0., 0., 0., 0., 0., 1., 0., 0., 0., 0., 0., 0., 0., 0., 0., 0.,\n         0., 0.]))"
     },
     "execution_count": 53,
     "metadata": {},
     "output_type": "execute_result"
    }
   ],
   "source": [
    "dataset = NewsGroupsDataset(df)\n",
    "dataset[0]"
   ],
   "metadata": {
    "collapsed": false
   }
  },
  {
   "cell_type": "markdown",
   "source": [
    "# Hyper parameters\n",
    "Set some hyper parameters for our model"
   ],
   "metadata": {
    "collapsed": false
   }
  },
  {
   "cell_type": "code",
   "execution_count": 54,
   "outputs": [],
   "source": [
    "import os\n",
    "\n",
    "epochs = 3\n",
    "batch_size = 16\n",
    "lr = 3e-2\n",
    "num_workers = int(os.getenv('NCPUS', 0))"
   ],
   "metadata": {
    "collapsed": false
   }
  },
  {
   "cell_type": "markdown",
   "source": [
    "# Model\n",
    "Next, let's make the model. We'll make a super simple linear regression model using `pytorch_lightning`.\n",
    "For those that are unfamiliar with the library, PyTorch Lightning is a lightweight and flexible PyTorch wrapper\n",
    "that allows you to focus on the high-level structure of your deep learning models rather than the low-level details of PyTorch.\n",
    "\n",
    "Here are a list of basic things we will need in pytorch lightning model to get started.\n",
    "1) the forward function\n",
    "2) training_step and validation_step\n",
    "4) configure_optimizers\n",
    "5) train_dataloader and val_dataloader"
   ],
   "metadata": {
    "collapsed": false
   }
  },
  {
   "cell_type": "code",
   "execution_count": 55,
   "outputs": [],
   "source": [
    "from torch import nn\n",
    "from torch.utils.data import SubsetRandomSampler\n",
    "from torch.utils.data import DataLoader\n",
    "import pytorch_lightning as pl\n",
    "import torchmetrics\n",
    "\n",
    "class LitModel(pl.LightningModule):\n",
    "    def __init__(self, in_features: int, out_features: int, hidden_units=16, *, dataset=dataset):\n",
    "        super().__init__()\n",
    "        self.dataset = dataset\n",
    "        self.loss_fn = nn.CrossEntropyLoss()\n",
    "        self.metric = torchmetrics.Accuracy(task='multiclass', num_classes=len(self.dataset.classes))\n",
    "\n",
    "        self.in_features = in_features\n",
    "        self.out_features = out_features\n",
    "        self.hidden_units = hidden_units\n",
    "\n",
    "        # setting up samplers to split data for training and evaluation\n",
    "        dataset_indices = list(range(len(self.dataset)))\n",
    "        np.random.shuffle(dataset_indices)\n",
    "        split_index = int(np.floor(0.2 * len(self.dataset)))\n",
    "        train_indices, val_indices = dataset_indices[split_index:], dataset_indices[:split_index]\n",
    "        self.train_sampler = SubsetRandomSampler(train_indices)\n",
    "        self.val_sampler = SubsetRandomSampler(val_indices)\n",
    "\n",
    "        # layers\n",
    "        self.layer = nn.Sequential(\n",
    "            nn.Linear(self.in_features, self.hidden_units),\n",
    "        )\n",
    "        self.fc = nn.Sequential(\n",
    "            nn.Linear(self.hidden_units, self.out_features),\n",
    "        )\n",
    "\n",
    "    def forward(self, X: torch.Tensor):\n",
    "        outputs = self.layer(X)\n",
    "        return self.fc(outputs)\n",
    "\n",
    "    def training_step(self, batch: torch.Tensor, index: int):\n",
    "        x, y = batch\n",
    "        # forward pass\n",
    "        output = self(x)\n",
    "        # calculate loss\n",
    "        loss = self.loss_fn(output, y)\n",
    "        # log data to a logger\n",
    "        self.log('train_loss', loss.item(), on_step=True, sync_dist=True)\n",
    "        return loss\n",
    "\n",
    "    def validation_step(self, batch: torch.Tensor, index: int):\n",
    "        x, y = batch\n",
    "        # forward pass\n",
    "        output = self(x)\n",
    "        # calculate loss\n",
    "        loss = self.loss_fn(output, y)\n",
    "\n",
    "        accuracy = self.metric(torch.argmax(output, dim=-1), torch.argmax(y, dim=-1)).item()\n",
    "\n",
    "        # log data to a logger\n",
    "        self.log('val_loss', loss.item(), on_step=True, sync_dist=True)\n",
    "        self.log('accuracy', accuracy, on_epoch=True, sync_dist=True)\n",
    "        return loss\n",
    "\n",
    "    def configure_optimizers(self):\n",
    "        return torch.optim.Adam(self.parameters(), lr=lr)\n",
    "\n",
    "    def train_dataloader(self):\n",
    "        train_loader = DataLoader(\n",
    "            dataset=dataset,\n",
    "            batch_size=batch_size,\n",
    "            sampler=self.train_sampler,\n",
    "            num_workers=num_workers\n",
    "        )\n",
    "        return train_loader\n",
    "\n",
    "    def val_dataloader(self):\n",
    "        val_loader = DataLoader(\n",
    "            dataset=dataset,\n",
    "            batch_size=batch_size,\n",
    "            sampler=self.val_sampler,\n",
    "            num_workers=num_workers\n",
    "        )\n",
    "        return val_loader\n"
   ],
   "metadata": {
    "collapsed": false
   }
  },
  {
   "cell_type": "code",
   "execution_count": 56,
   "outputs": [],
   "source": [
    "model = LitModel(\n",
    "    in_features=dataset.vocab_size,\n",
    "    out_features=len(dataset.classes),\n",
    "    hidden_units=32,\n",
    "    dataset=dataset\n",
    ")"
   ],
   "metadata": {
    "collapsed": false
   }
  },
  {
   "cell_type": "markdown",
   "source": [
    "# Trainer\n",
    "To train our model, we'll need a `Trainer`.\n",
    "The `Trainer` is a high-level module that provides a simple and consistent interface for training, validation, and testing your PyTorch models.\n",
    "We'll also want to log our data with a logger. You will need a Wandb account to view you're logs."
   ],
   "metadata": {
    "collapsed": false
   }
  },
  {
   "cell_type": "code",
   "execution_count": null,
   "outputs": [],
   "source": [
    "from pytorch_lightning.loggers import WandbLogger\n",
    "from pytorch_lightning import Trainer\n",
    "\n",
    "logger = WandbLogger(name='experiment1', project='lightning_logs')\n",
    "trainer = Trainer(max_epochs=epochs, logger=logger, log_every_n_steps=1)"
   ],
   "metadata": {
    "collapsed": false,
    "pycharm": {
     "is_executing": true
    }
   }
  },
  {
   "cell_type": "code",
   "execution_count": null,
   "outputs": [],
   "source": [
    "trainer.fit(model)"
   ],
   "metadata": {
    "collapsed": false,
    "pycharm": {
     "is_executing": true
    }
   }
  },
  {
   "cell_type": "code",
   "execution_count": null,
   "outputs": [],
   "source": [
    "logger.experiment.finish()"
   ],
   "metadata": {
    "collapsed": false,
    "pycharm": {
     "is_executing": true
    }
   }
  },
  {
   "cell_type": "markdown",
   "source": [
    "# Improvement\n",
    "There are ways to improve a model. One way is to try different model architectures.\n",
    "Let's start by introducing non-linearity with the `ReLU` activation function."
   ],
   "metadata": {
    "collapsed": false
   }
  },
  {
   "cell_type": "code",
   "execution_count": null,
   "outputs": [],
   "source": [
    "model = LitModel(\n",
    "    in_features=dataset.vocab_size,\n",
    "    out_features=len(dataset.classes),\n",
    "    hidden_units=32,\n",
    "    dataset=dataset\n",
    ")\n",
    "model.layer = nn.Sequential(\n",
    "    nn.Linear(model.in_features, model.hidden_units),\n",
    "    nn.ReLU(),\n",
    ")"
   ],
   "metadata": {
    "collapsed": false
   }
  },
  {
   "cell_type": "code",
   "execution_count": null,
   "outputs": [],
   "source": [
    "logger = WandbLogger(name='experiment2', project='lightning_logs')\n",
    "trainer = Trainer(max_epochs=epochs, logger=logger, log_every_n_steps=1)"
   ],
   "metadata": {
    "collapsed": false
   }
  },
  {
   "cell_type": "code",
   "execution_count": null,
   "outputs": [],
   "source": [
    "trainer.fit(model)"
   ],
   "metadata": {
    "collapsed": false
   }
  },
  {
   "cell_type": "code",
   "execution_count": null,
   "outputs": [],
   "source": [
    "logger.experiment.finish()"
   ],
   "metadata": {
    "collapsed": false
   }
  },
  {
   "cell_type": "markdown",
   "source": [
    "Did it improve?\n",
    "Try adding regularization with `Dropout`."
   ],
   "metadata": {
    "collapsed": false
   }
  },
  {
   "cell_type": "code",
   "execution_count": 60,
   "outputs": [],
   "source": [
    "model = LitModel(\n",
    "    in_features=dataset.vocab_size,\n",
    "    out_features=len(dataset.classes),\n",
    "    hidden_units=32,\n",
    "    dataset=dataset\n",
    ")\n",
    "model.layer = nn.Sequential(\n",
    "    nn.Linear(model.in_features, model.hidden_units),\n",
    "    nn.ReLU(),\n",
    "    nn.Dropout(.2),\n",
    ")"
   ],
   "metadata": {
    "collapsed": false
   }
  },
  {
   "cell_type": "code",
   "execution_count": null,
   "outputs": [],
   "source": [
    "logger = WandbLogger(name='experiment2', project='lightning_logs')\n",
    "trainer = Trainer(max_epochs=epochs, logger=logger, log_every_n_steps=1)"
   ],
   "metadata": {
    "collapsed": false,
    "pycharm": {
     "is_executing": true
    }
   }
  },
  {
   "cell_type": "code",
   "execution_count": null,
   "outputs": [],
   "source": [
    "trainer.fit(model)"
   ],
   "metadata": {
    "collapsed": false
   }
  },
  {
   "cell_type": "code",
   "execution_count": null,
   "outputs": [],
   "source": [
    "logger.experiment.finish()"
   ],
   "metadata": {
    "collapsed": false
   }
  },
  {
   "cell_type": "markdown",
   "source": [],
   "metadata": {
    "collapsed": false
   }
  },
  {
   "cell_type": "markdown",
   "source": [
    "# Conclusion\n",
    "Machine learning requires lots of experimenting.\n",
    "It often requires trying out different models, hyperparameters, and preprocessing techniques to achieve optimal results.\n",
    "This is only the start of NLP. Throughout the workshop you may find other approaches to this problem."
   ],
   "metadata": {
    "collapsed": false
   }
  }
 ],
 "metadata": {
  "kernelspec": {
   "display_name": "Python 3",
   "language": "python",
   "name": "python3"
  },
  "language_info": {
   "codemirror_mode": {
    "name": "ipython",
    "version": 2
   },
   "file_extension": ".py",
   "mimetype": "text/x-python",
   "name": "python",
   "nbconvert_exporter": "python",
   "pygments_lexer": "ipython2",
   "version": "2.7.6"
  }
 },
 "nbformat": 4,
 "nbformat_minor": 0
}
